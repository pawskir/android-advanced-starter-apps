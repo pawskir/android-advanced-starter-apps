{
  "cells": [
    {
      "cell_type": "markdown",
      "metadata": {
        "id": "view-in-github",
        "colab_type": "text"
      },
      "source": [
        "<a href=\"https://colab.research.google.com/github/pawskir/android-advanced-starter-apps/blob/master/inl%C3%A4mning_1_%20del%202.ipynb\" target=\"_parent\"><img src=\"https://colab.research.google.com/assets/colab-badge.svg\" alt=\"Open In Colab\"/></a>"
      ]
    },
    {
      "cell_type": "markdown",
      "metadata": {
        "id": "2Ge_r-ys0Cud"
      },
      "source": [
        "# Laboration 2 - inlämning del 2 Analys av tweets från bokmässan\n",
        "\n",
        "## Attribution David Johnsson, Uppsala University"
      ]
    },
    {
      "cell_type": "markdown",
      "metadata": {
        "id": "jVHuuj0j0Cun"
      },
      "source": [
        "Starta med att ladda in följande moduler och sätt upp visualiseringsmiljön för matplotlib\n",
        "\n",
        "1. `pandas` Ett bibliotek för att hantera data i tabellform, ett av de absolut vanligaste biblioteken för data analytics.Vi kommer gå igenom pandas mer senare i kursen.\n",
        "2. `textmining` \n",
        "Funktioner för statistisk textmining, fokuserad på bag-of-words model (som ni inte behöver sätta er in för denna kurs.f För den nyfikne eller vetgirige finns enkla förklaringar exempelvis [här](https://www.analyticsvidhya.com/blog/2020/02/quick-introduction-bag-of-words-bow-tf-idf/) eller [här](https://www.geeksforgeeks.org/bag-of-words-bow-model-in-nlp/), en enkel tutorial finns också [här](https://machinelearningmastery.com/gentle-introduction-bag-words-model/)) \n",
        "3. `wordcloud` - En visualiseringsmodul för att skapa ordmoln, vilket vi gör i denna laboration.\n",
        "4. `matplotlib` - Ett bibliotek för att skapa visualiseringar av tabelldata. \n",
        "5. `sklearn` -  Scikit-learn,ett pythonbibliotek för maskininlärningsalgoritmer, den kommer vi använda mycket i både laboration 3 och 4."
      ]
    },
    {
      "cell_type": "code",
      "execution_count": null,
      "metadata": {
        "colab": {
          "base_uri": "https://localhost:8080/"
        },
        "id": "Jd8IdvSs0Cuw",
        "outputId": "98229742-84ee-49ae-bf61-5b82649b161e"
      },
      "outputs": [
        {
          "output_type": "stream",
          "name": "stdout",
          "text": [
            "Requirement already satisfied: nltk in /usr/local/lib/python3.7/dist-packages (3.2.5)\n",
            "Requirement already satisfied: six in /usr/local/lib/python3.7/dist-packages (from nltk) (1.15.0)\n"
          ]
        }
      ],
      "source": [
        "pip install nltk "
      ]
    },
    {
      "cell_type": "code",
      "execution_count": null,
      "metadata": {
        "id": "ByTBWm610Cu3"
      },
      "outputs": [],
      "source": [
        "# Kör denna cell för att ladda in biblioteken och sätta upp vår miljö\n",
        "import pandas as pd\n",
        "import nltk as tm\n",
        "from nltk.corpus import stopwords\n",
        "import wordcloud\n",
        "import matplotlib\n",
        "from sklearn.feature_extraction.text import CountVectorizer\n",
        "# Sätt upp visualiseringen\n",
        "%matplotlib inline\n",
        "matplotlib.pyplot.rcParams['figure.figsize'] = [10, 6]"
      ]
    },
    {
      "cell_type": "code",
      "execution_count": null,
      "metadata": {
        "colab": {
          "base_uri": "https://localhost:8080/"
        },
        "id": "pZsIf3bC0Cu9",
        "outputId": "4702e8e0-db30-493b-fd80-e6ef870616f6"
      },
      "outputs": [
        {
          "output_type": "stream",
          "name": "stdout",
          "text": [
            "[nltk_data] Downloading package stopwords to /root/nltk_data...\n",
            "[nltk_data]   Unzipping corpora/stopwords.zip.\n"
          ]
        },
        {
          "output_type": "execute_result",
          "data": {
            "text/plain": [
              "True"
            ]
          },
          "metadata": {},
          "execution_count": 3
        }
      ],
      "source": [
        "tm.download('stopwords')"
      ]
    },
    {
      "cell_type": "code",
      "execution_count": null,
      "metadata": {
        "colab": {
          "base_uri": "https://localhost:8080/"
        },
        "id": "ByabUHUH0CvB",
        "outputId": "8811dad6-bfb9-446c-9b32-d6a19f0b18dd"
      },
      "outputs": [
        {
          "output_type": "execute_result",
          "data": {
            "text/plain": [
              "{'alla',\n",
              " 'allt',\n",
              " 'att',\n",
              " 'av',\n",
              " 'blev',\n",
              " 'bli',\n",
              " 'blir',\n",
              " 'blivit',\n",
              " 'de',\n",
              " 'dem',\n",
              " 'den',\n",
              " 'denna',\n",
              " 'deras',\n",
              " 'dess',\n",
              " 'dessa',\n",
              " 'det',\n",
              " 'detta',\n",
              " 'dig',\n",
              " 'din',\n",
              " 'dina',\n",
              " 'ditt',\n",
              " 'du',\n",
              " 'där',\n",
              " 'då',\n",
              " 'efter',\n",
              " 'ej',\n",
              " 'eller',\n",
              " 'en',\n",
              " 'er',\n",
              " 'era',\n",
              " 'ert',\n",
              " 'ett',\n",
              " 'från',\n",
              " 'för',\n",
              " 'ha',\n",
              " 'hade',\n",
              " 'han',\n",
              " 'hans',\n",
              " 'har',\n",
              " 'henne',\n",
              " 'hennes',\n",
              " 'hon',\n",
              " 'honom',\n",
              " 'hur',\n",
              " 'här',\n",
              " 'i',\n",
              " 'icke',\n",
              " 'ingen',\n",
              " 'inom',\n",
              " 'inte',\n",
              " 'jag',\n",
              " 'ju',\n",
              " 'kan',\n",
              " 'kunde',\n",
              " 'man',\n",
              " 'med',\n",
              " 'mellan',\n",
              " 'men',\n",
              " 'mig',\n",
              " 'min',\n",
              " 'mina',\n",
              " 'mitt',\n",
              " 'mot',\n",
              " 'mycket',\n",
              " 'ni',\n",
              " 'nu',\n",
              " 'när',\n",
              " 'någon',\n",
              " 'något',\n",
              " 'några',\n",
              " 'och',\n",
              " 'om',\n",
              " 'oss',\n",
              " 'på',\n",
              " 'samma',\n",
              " 'sedan',\n",
              " 'sig',\n",
              " 'sin',\n",
              " 'sina',\n",
              " 'sitta',\n",
              " 'själv',\n",
              " 'skulle',\n",
              " 'som',\n",
              " 'så',\n",
              " 'sådan',\n",
              " 'sådana',\n",
              " 'sådant',\n",
              " 'till',\n",
              " 'under',\n",
              " 'upp',\n",
              " 'ut',\n",
              " 'utan',\n",
              " 'vad',\n",
              " 'var',\n",
              " 'vara',\n",
              " 'varför',\n",
              " 'varit',\n",
              " 'varje',\n",
              " 'vars',\n",
              " 'vart',\n",
              " 'vem',\n",
              " 'vi',\n",
              " 'vid',\n",
              " 'vilka',\n",
              " 'vilkas',\n",
              " 'vilken',\n",
              " 'vilket',\n",
              " 'vår',\n",
              " 'våra',\n",
              " 'vårt',\n",
              " 'än',\n",
              " 'är',\n",
              " 'åt',\n",
              " 'över'}"
            ]
          },
          "metadata": {},
          "execution_count": 4
        }
      ],
      "source": [
        "stopWords = set(stopwords.words('swedish'))\n",
        "stopWords"
      ]
    },
    {
      "cell_type": "markdown",
      "metadata": {
        "lang": "en",
        "id": "3H2PO_5T0CvH"
      },
      "source": [
        "## Analys av Twitterdata från bokmässan\n",
        "\n",
        "Ni har blivit inhyrda som konsulter för en bokpublicist som vill att du ska ta reda på vilka teman och böcker som har fått mest uppmärksamhet på bokmässan i Göteborg 2016. \n",
        "\n",
        "Er uppgift är att via Twitterdata undersöka vilka ämnen som fått speciellt mycket uppmärksamhet för och under bokmässan och presentera ett förslag till företaget du arbetar med vad som är lämpliga debattämnen. \n",
        "\n",
        "Fokus här är alltså på att förstå data, vilket är en viktigt del av pre-processering inför mer avacerad dataanalys. \n",
        "\n",
        "**F1.** Vad för data är distinkt för twitter och vilken typ av pre-processing tror ni kommer behövas på den typen av data? "
      ]
    },
    {
      "cell_type": "markdown",
      "source": [
        "F1: \n",
        "Vi är i det här fallet ute efter helt nominala ämnesord. Distinkt för twitterdata kan vara hashtags som ofta kan avgöra tweetets ämne. Förutom att tvätta fritexten med hjälp av stopwords så kan vi även sortera fram de hashtags som inte är \"#bokmässan\".\n",
        "\n",
        "Det är också vanligt med retweets, vilka i vårat fall inte borde städas bort, men kan separeras från original-tweets. När det kommer till trendande ämnen så kan retweets vara högst intressanta då man ser vilka ämnen som ger respons och reaktioner.\n",
        "\n",
        "Vi tror att det kan komma att vara högst relevant med någon form av aggregering där vi till exempel slår ihop ord som kan sammanfattas under samma ämne."
      ],
      "metadata": {
        "id": "sYB3GhKW3NnD"
      }
    },
    {
      "cell_type": "markdown",
      "metadata": {
        "lang": "en",
        "id": "CqgIFGh90CvK"
      },
      "source": [
        "## Data processing\n",
        "\n",
        "Som alltid behöver vårt data städas, i detta fall är fokus att sortera bort data som antingen inte går att analysera eller inte är intressant från den råtextdata vi fått från Twitter. Den data som givits samlades in från Twitter från maj till september 2016.\n",
        "\n",
        "Er datafil finns i mappen data i laborationsrepositoriet och heter `twitter_book_fair_data.tsv`."
      ]
    },
    {
      "cell_type": "markdown",
      "metadata": {
        "lang": "en",
        "id": "xi3Goaqu0CvQ"
      },
      "source": [
        "### Ladda data\n",
        "\n",
        "En `.tsv` fil betyder att det är en tab-separerad fil med tabelldata (jämfört med ; separerad som vi använt tidigare)\n",
        "\n",
        "**F2** Starta arbetet med att läsa in filen med read_csv() med följande parametrar:  encoding=\"utf-8\", sep=\"\\t\" och spara i en dataframe"
      ]
    },
    {
      "cell_type": "markdown",
      "metadata": {
        "lang": "en",
        "id": "tq5YbD_j0CvX"
      },
      "source": [
        "**F3** Inspektera den dataframe som skapats med lämpliga funktioner. Ta reda på följande:\n",
        "\n",
        "Hur ser den ut?\n",
        "Antal kolumner och rader?\n",
        "Datatyper?\n",
        "\n",
        "Glöm inte bort att när du utför operationer på en datafram så sparas ingenting om du inte skapar en variabel som du lagrar dina ändringar i! (alternativt skriver över den dataframe du har genom att sätta parametern inplace = True (default är False)."
      ]
    },
    {
      "cell_type": "markdown",
      "metadata": {
        "id": "HMdQhHKh0Cva"
      },
      "source": [
        "**F4** Finns det nullvärden i vårt dataset? Varför/varför inte?"
      ]
    },
    {
      "cell_type": "markdown",
      "metadata": {
        "id": "ugWneCXQ0Cve"
      },
      "source": [
        "**F5.** Hur många tweets i vårt dataset är nämnanden av andra användare (alltså när `@twittername` finns med i tweeten) \n",
        "\n",
        "*Hint: Det kan vara till hjälp att använda funktionen `info()`*"
      ]
    },
    {
      "cell_type": "markdown",
      "metadata": {
        "lang": "en",
        "id": "FQJDLibz0Cvg"
      },
      "source": [
        "**F6.** En kolumn är speciellt intressant för vår **textanalys**, extrahera den från den dataframe vi lagrat all data i och skapa en variabel där du placerar denna data, döp variablen till `tweets_corpus`."
      ]
    },
    {
      "cell_type": "code",
      "source": [
        "#F1\n"
      ],
      "metadata": {
        "id": "j3_oU1zA4UET"
      },
      "execution_count": null,
      "outputs": []
    },
    {
      "cell_type": "code",
      "source": [
        "#F2"
      ],
      "metadata": {
        "id": "RZk6iXgX5Chd"
      },
      "execution_count": null,
      "outputs": []
    },
    {
      "cell_type": "code",
      "source": [
        "#F3"
      ],
      "metadata": {
        "id": "VRoReqT35FfI"
      },
      "execution_count": null,
      "outputs": []
    },
    {
      "cell_type": "markdown",
      "source": [
        "F4"
      ],
      "metadata": {
        "id": "LsndONru5kx4"
      }
    },
    {
      "cell_type": "code",
      "source": [
        "#F5"
      ],
      "metadata": {
        "id": "Pn_DWqEW5Ifp"
      },
      "execution_count": null,
      "outputs": []
    },
    {
      "cell_type": "code",
      "source": [
        "#F6"
      ],
      "metadata": {
        "id": "pVblTKX35LF9"
      },
      "execution_count": null,
      "outputs": []
    },
    {
      "cell_type": "markdown",
      "metadata": {
        "lang": "en",
        "id": "woAlji3b0Cvk"
      },
      "source": [
        "### Emojis\n",
        "\n",
        "På Twitter är det väldigt vanligt med emojis 👍 ✨ 🐫 🎉 🚀 🤘.\n",
        "\n",
        "Dessa kan innehålla mycket information som kan vara relevant för vår analys. Dock är det ofta svårt att analysera emojis med hjälp av vanliga verktug för NLP(Natural Language Processig). \n",
        "\n",
        "Vi behöver därför ta bort dessa ur vårt utvalda dataset som skapades i uppgiften ovan.\n",
        "\n",
        "Följande kod utför detta, ni behöver inte bry er om lambda just nu, men vi kommer gå igenom det lite senare i kursen. "
      ]
    },
    {
      "cell_type": "code",
      "execution_count": null,
      "metadata": {
        "scrolled": true,
        "id": "qTIl04Zc0Cvm"
      },
      "outputs": [],
      "source": [
        "encode2ascii = lambda x: x.encode('ascii', errors='ignore').decode('utf-8')\n",
        "clean_tweets = tweets_corpus.apply(encode2ascii)\n",
        "clean_tweets"
      ]
    },
    {
      "cell_type": "markdown",
      "metadata": {
        "lang": "en",
        "id": "jng3dz4G0Cvp"
      },
      "source": [
        "**F7.** Hur påverkas kvaliteten på vår analys potentiellt av att ta bort alla emojis? Förklara svaret."
      ]
    },
    {
      "cell_type": "markdown",
      "source": [
        "F7"
      ],
      "metadata": {
        "id": "EiKHwbRO5WQZ"
      }
    },
    {
      "cell_type": "markdown",
      "metadata": {
        "lang": "en",
        "id": "pFXgd8dw0Cvq"
      },
      "source": [
        "### Ta bort URLs\n",
        "Det är också vanligt att man på Twitter länkar till olika webbplatser med hjälp av URL:er, när man gör textanalys på twitterdata är det vanligt att delar av dessa URL:er dyker upp som \"mest frekventa ord\" vilket påverkar vår analys negativs. Dessa behöver därför också tas bort."
      ]
    },
    {
      "cell_type": "code",
      "execution_count": null,
      "metadata": {
        "id": "hNpHooyi0Cvt"
      },
      "outputs": [],
      "source": [
        "clean_tweets = clean_tweets.str.replace(r'http\\S+', '')\n",
        "clean_tweets"
      ]
    },
    {
      "cell_type": "markdown",
      "metadata": {
        "id": "QMtwttN10Cvv"
      },
      "source": [
        "**F8.** Hur kan borttagandet av URL:er pvåerkar analysen och dess kvalitet, förklara svaret."
      ]
    },
    {
      "cell_type": "markdown",
      "source": [
        "F8"
      ],
      "metadata": {
        "id": "bq_GFdSJ6Z_k"
      }
    },
    {
      "cell_type": "markdown",
      "metadata": {
        "lang": "en",
        "id": "DMLgZy5D0Cvy"
      },
      "source": [
        "### Funktion för att hitta mest frekventa ord \n",
        "\n",
        "Ett sätt att förstå hur olika metoder för pre-processing påverkar ett dataset kan man räkna de mest förekommande orden efter varje operation som utförs. Eftersom vi kommer vilja utföra denna räkning många gånger under arbetet är de lämpligt att skapa en funktion för det som vi kan anropa flera gånger.\n",
        "\n",
        "#### Vad är en Term Document Matrix (TDM)?\n",
        "\n",
        "En TDM är en tabell där antalet unika ord räknas för varje dokument. För att göra detta på vårt Twitterdata är det lämpligt att skapa en TDM där varje tweet är en egen vektor där varje element består av de ord som finns i den tweeten. En tweet med tre unika ord blir alltså en vektor med tre element. \n",
        "\n",
        "Nedanstående kod skapar denna TDM i form av en funktion med namn `create_term_document_matrix()`:"
      ]
    },
    {
      "cell_type": "markdown",
      "metadata": {
        "id": "sBHvSWSz0Cvz"
      },
      "source": [
        "**F9** Koden nedan är inte kommenterad, lägg in kommentarer som förklarar vad som sker i koden. (No hittar dokumentationen för CountVectorizer() [här](https://scikit-learn.org/stable/modules/generated/sklearn.feature_extraction.text.CountVectorizer.html) och en kort beskrivning med exempel [här](https://www.geeksforgeeks.org/using-countvectorizer-to-extracting-features-from-text/)"
      ]
    },
    {
      "cell_type": "code",
      "execution_count": null,
      "metadata": {
        "id": "Rwk-SXig0Cv1"
      },
      "outputs": [],
      "source": [
        "#F9\n",
        "def create_term_document_matrix(corpus, min_df=1):\n",
        "    cvec = CountVectorizer(min_df=min_df, stop_words=stopWords)\n",
        "    tfmatrix = cvec.fit_transform(corpus)\n",
        "    return pd.DataFrame(data=tfmatrix.toarray(), columns=cvec.get_feature_names())"
      ]
    },
    {
      "cell_type": "markdown",
      "metadata": {
        "id": "wvCkM3IS0Cv2"
      },
      "source": [
        "**F10** Testa vår nya funktion genom att skapa en TDM endast för de tre första raderna i `clean_tweets` som kan sorteras ut med `.head(3)` funktionen. "
      ]
    },
    {
      "cell_type": "code",
      "execution_count": null,
      "metadata": {
        "id": "3Duw0yG80Cv5"
      },
      "outputs": [],
      "source": [
        "#F10\n",
        "#kod här..\n",
        "create_term_document_matrix( )"
      ]
    },
    {
      "cell_type": "markdown",
      "metadata": {
        "id": "ZCgTCH1A0Cv7"
      },
      "source": [
        "**F11.** Hur många kolumner skapades i TDM:n med bara 3 av raderna i vårt corpus?"
      ]
    },
    {
      "cell_type": "code",
      "source": [
        "#F11"
      ],
      "metadata": {
        "id": "QAXNxx8I6wSR"
      },
      "execution_count": null,
      "outputs": []
    },
    {
      "cell_type": "markdown",
      "metadata": {
        "id": "uyV60-l20Cv9"
      },
      "source": [
        "För att hitta de mest frekvent förekommander orden i vår TDM behöver vi räkna ord. Det är också lämpligt med en visualisering över dessa vanligast förekommande ord. Även detta kommer vi behöva göra flera gånger och därför är det återigen lämpligt att definiera en funktion `plot_top_words()` som både räknar och plottar orden i ett stapeldiagram. \n",
        "\n",
        "**F12** I nedanstående cell är funktionen definierad, men koden är återigen inte kommenterad, skapa kommentarer (eller skriv i en markdowncell) som förklarar vad funktionen gör. \n"
      ]
    },
    {
      "cell_type": "code",
      "execution_count": null,
      "metadata": {
        "id": "ZuOuy4db0Cv_"
      },
      "outputs": [],
      "source": [
        "#F12\n",
        "def plot_top_words(tweets, num_word_instances, top_words):\n",
        "    tdm_df = create_term_document_matrix(tweets, min_df=2)\n",
        "    word_frequencies = tdm_df[[x for x in tdm_df.columns if len(x) > 1]].sum()\n",
        "    sorted_words = word_frequencies.sort_values(ascending=False)\n",
        "    top_sorted_words = sorted_words[:num_word_instances]\n",
        "    top_sorted_words[:top_words].plot.bar()\n",
        "    return top_sorted_words"
      ]
    },
    {
      "cell_type": "markdown",
      "metadata": {
        "id": "fER2oJXy0CwC"
      },
      "source": [
        "Nu kan vi använda `plot_top_words()` funktionen för att räkna ut de mest förekommande orden i hela vårt corpus, viktigt att ha tålamod dock för det kan ta ett tag. Nedanstående kod utför beräkningen."
      ]
    },
    {
      "cell_type": "code",
      "execution_count": null,
      "metadata": {
        "id": "gYtGVQZm0CwD"
      },
      "outputs": [],
      "source": [
        "top_words = plot_top_words(clean_tweets, 50, 30)\n",
        "top_words"
      ]
    },
    {
      "cell_type": "markdown",
      "metadata": {
        "id": "h9Tmjriy0CwF"
      },
      "source": [
        "**F13** Hur många gånger måste ett ord finnas i corpuset för att finnas med i resultatet `top_words` så som koden är skriven ovan?"
      ]
    },
    {
      "cell_type": "code",
      "source": [
        "#F13"
      ],
      "metadata": {
        "id": "83u-LMWw65pk"
      },
      "execution_count": null,
      "outputs": []
    },
    {
      "cell_type": "markdown",
      "metadata": {
        "id": "DvS0S_C90CwG"
      },
      "source": [
        "**F14.** Hur många ord plottas i stapeldiagrammet? "
      ]
    },
    {
      "cell_type": "code",
      "source": [
        "#F14"
      ],
      "metadata": {
        "id": "uQ1ICUB07QSy"
      },
      "execution_count": null,
      "outputs": []
    },
    {
      "cell_type": "markdown",
      "metadata": {
        "lang": "en",
        "id": "b_x0_Mgm0CwH"
      },
      "source": [
        "### Små bokstäver\n",
        "\n",
        "Nästa steg i pre-processingen av vårt dataset (vårt corpus) är att göra om alla bokstäver till små. \n",
        "\n",
        "**F15** \n",
        "\n",
        "a.Utför ändringen att alla stora bokstäver blir små bokstäver i `clean_tweets` och spara i en ny variabel kallad `tweets_lowered`\n",
        "\n",
        "b.Varför vill man göra det för vår analys?\n"
      ]
    },
    {
      "cell_type": "code",
      "source": [
        "#F15 - a"
      ],
      "metadata": {
        "id": "uBEr-F0-7Ta1"
      },
      "execution_count": null,
      "outputs": []
    },
    {
      "cell_type": "markdown",
      "source": [
        "F15 - b"
      ],
      "metadata": {
        "id": "5DsaD_H17ZPC"
      }
    },
    {
      "cell_type": "markdown",
      "metadata": {
        "id": "HpVNup5R0CwJ"
      },
      "source": [
        "**F16** Räkna ut en ny variabel med de mest förekommander (frekventa) orden, döp den till `top_words_lowered`"
      ]
    },
    {
      "cell_type": "code",
      "execution_count": null,
      "metadata": {
        "id": "g3_3uTUn0CwL",
        "outputId": "9a1eff79-2179-4c24-a920-83ee907e6278"
      },
      "outputs": [
        {
          "data": {
            "text/plain": [
              "Ellipsis"
            ]
          },
          "execution_count": 4,
          "metadata": {},
          "output_type": "execute_result"
        }
      ],
      "source": [
        "#F16\n",
        "#Skriv klart denna kodcell för F1.16\n",
        "\n",
        "top_words_lowered = ...\n",
        "top_words_lowered"
      ]
    },
    {
      "cell_type": "markdown",
      "metadata": {
        "id": "_RQ21u6W0CwQ"
      },
      "source": [
        "**F17.** Har något förändrats, vad? Förklara svaret."
      ]
    },
    {
      "cell_type": "markdown",
      "source": [
        "F17"
      ],
      "metadata": {
        "id": "1ZBW71qa7mA1"
      }
    },
    {
      "cell_type": "markdown",
      "metadata": {
        "lang": "en",
        "id": "cG6VNvHB0CwR"
      },
      "source": [
        "För att underlätta att jämföra vad våra ansträngningar får för resultat kan det vara bra att enkelt kunna jämföra olika listor med top_words.\n",
        "\n",
        "**F18 a** Skapa en ny dataframe som har två kolumner, en med de 20 mest frekventa orden från`top_words` och en med de 20 mest frekventa orden från `top_word_lowered`. Döp kolumnerna till `Top tweeted clean`och  `Top tweeted lowered`. "
      ]
    },
    {
      "cell_type": "code",
      "execution_count": null,
      "metadata": {
        "id": "EuLJ52Bs0CwT"
      },
      "outputs": [],
      "source": [
        "#F18 - a\n",
        "pd.DataFrame({\n",
        "    'Top tweeted clean': top_words[0:20].index,\n",
        "    'Top tweeted lowered': top_words_lowered[0:20].index\n",
        "})"
      ]
    },
    {
      "cell_type": "code",
      "source": [
        "#F18 - b"
      ],
      "metadata": {
        "id": "zhKoIRMn_zs_"
      },
      "execution_count": null,
      "outputs": []
    },
    {
      "cell_type": "markdown",
      "metadata": {
        "lang": "en",
        "id": "MABCDnoI0CwU"
      },
      "source": [
        "**F18 b** Ett annnat sätt att göra ungefär samma sak, fast lite mer automatiskt är nedanstående kod som också jämför de första 20 orden. Gör om den så att den istället för att jämföra de 20 mest frekventa orden, jämför de ord som är **minst** förekommande i de två listorna `top_words`och `top_words_lowered`.\n",
        "\n",
        "**F19** Vad returnerar nedanstående kodrad om de två listor som jämförs är identiska? Vad returneras om de inte är identiska?"
      ]
    },
    {
      "cell_type": "code",
      "execution_count": null,
      "metadata": {
        "id": "JqMm25lc0CwW"
      },
      "outputs": [],
      "source": [
        "set(top_words[0:20].index) - set(top_words_lowered[0:20].index)"
      ]
    },
    {
      "cell_type": "markdown",
      "source": [
        "F 19"
      ],
      "metadata": {
        "id": "tXXUM0pm_3iz"
      }
    },
    {
      "cell_type": "markdown",
      "metadata": {
        "id": "_uRZ_kQj0CwX"
      },
      "source": [
        "### Korta ord\n",
        "\n",
        "Korta ord har ofta inte någon egentlig betydelse, alltså behöver vi inte dessa ord. Typiska sådana ord kan vara ja, jo eller nej. Vi bestämmer oss för att alla ord som är kortare än 3 bokstäver inte innehar någon betydelse i vår analys och tar därmed bort dem. \n",
        "\n",
        "**F20** Ta bort alla ord med färre bokstäver än 3(HINT: [regular expressions](https://docs.python.org/3/howto/regex.html)), lägg den nya listan med ord (som inte innehåller ord med färre bokstäver än 3) i en variabel med namn `tweets_low_no_small`\n",
        "\n"
      ]
    },
    {
      "cell_type": "code",
      "execution_count": null,
      "metadata": {
        "id": "abFiN6nU0Cwa"
      },
      "outputs": [],
      "source": [
        "tweets_low_no_small = ...#din kod här"
      ]
    },
    {
      "cell_type": "code",
      "execution_count": null,
      "metadata": {
        "id": "j3z3sjse0Cwc"
      },
      "outputs": [],
      "source": [
        "#Skapar ny topplista utan korta ord\n",
        "top_words_low_no_small = plot_top_words(tweets_low_no_small, 50, 30)\n",
        "top_words_low_no_small"
      ]
    },
    {
      "cell_type": "code",
      "source": [
        "# F20"
      ],
      "metadata": {
        "id": "pxwSY1yK_8LD"
      },
      "execution_count": null,
      "outputs": []
    },
    {
      "cell_type": "markdown",
      "metadata": {
        "id": "_0pyJMbA0Cwd"
      },
      "source": [
        "**F21.** Efter att korta ord tagits bort, hur många gånger måste ett ord förekomma i vårt corpus för att hamna i den nya listan enligt ovan? "
      ]
    },
    {
      "cell_type": "markdown",
      "source": [
        "F21"
      ],
      "metadata": {
        "id": "b9G_o_LsADUz"
      }
    },
    {
      "cell_type": "markdown",
      "metadata": {
        "lang": "en",
        "id": "_vDqjeBF0Cwf"
      },
      "source": [
        "### Betydelselösa ord\n",
        "\n",
        "Stop words är andra ord som inte är korta men som ändå inte har betydelse, dessa kan vara lite besvärligare att identifiera och ta bort. En möjlighet är att helt enkelt skapa en lista med sådana ord och sedan använda den listan för att filtrera ut orden ur ett corpus. Vi har ju redan tagit bort alla ord med färre bokstäver än 3, så sådana behöver vi inte lägga in i listan. \n",
        "\n",
        "Nedan är ett exempel på en lista med stoppord som är betydelselösa. \n"
      ]
    },
    {
      "cell_type": "code",
      "execution_count": null,
      "metadata": {
        "id": "_ydI68UU0Cwg"
      },
      "outputs": [],
      "source": [
        "my_stop_words = [\"och\", \"det\", \"att\", \"i\", \"en\", \"jag\", \"hon\", \n",
        "                \"som\", \"han\", \"paa\", \"den\", \"med\", \"var\", \"sig\", \n",
        "                \"foer\", \"saa\", \"till\", \"aer\", \"men\", \"ett\", \n",
        "                \"om\", \"hade\", \"de\", \"av\", \"icke\", \"mig\", \"du\", \n",
        "                \"henne\", \"daa\", \"sin\", \"nu\", \"har\", \"inte\", \n",
        "                \"hans\", \"honom\", \"skulle\", \"hennes\", \"daer\", \n",
        "                \"min\", \"man\", \"ej\", \"vid\", \"kunde\", \"naagot\", \n",
        "                \"fraan\", \"ut\", \"naer\", \"efter\", \"upp\", \"vi\", \n",
        "                \"dem\", \"vara\", \"vad\", \"oever\", \"aen\", \"dig\", \n",
        "                \"kan\", \"sina\", \"haer\", \"ha\", \"mot\", \"alla\", \n",
        "                \"under\", \"naagon\", \"eller\", \"allt\", \"mycket\", \n",
        "                \"sedan\", \"ju\", \"denna\", \"sjaelv\", \"detta\", \n",
        "                \"aat\", \"utan\", \"varit\", \"hur\", \"ingen\", \"mitt\", \n",
        "                \"ni\", \"bli\", \"blev\", \"oss\", \"din\", \"dessa\", \n",
        "                \"naagra\", \"deras\", \"blir\", \"mina\", \"samma\", \n",
        "                \"vilken\", \"er\", \"saadan\", \"vaar\", \"blivit\", \n",
        "                \"dess\", \"inom\", \"mellan\", \"saadant\", \"varfoer\", \n",
        "                \"varje\", \"vilka\", \"ditt\", \"vem\", \"vilket\", \n",
        "                \"sitta\", \"saadana\", \"vart\", \"dina\", \"vars\", \n",
        "                \"vaart\", \"vaara\", \"ert\", \"era\", \"vilka\"]"
      ]
    },
    {
      "cell_type": "markdown",
      "metadata": {
        "lang": "en",
        "id": "fydITytf0Cwi"
      },
      "source": [
        "När vi skapat vår lista är det dags att skapa en funktion som tar bort dessa från ett dokument. Denna funktion är kodad i cellen nedan. (Igen strunta i lambda för tillfället.)"
      ]
    },
    {
      "cell_type": "code",
      "execution_count": null,
      "metadata": {
        "id": "auhQfhGg0Cwj"
      },
      "outputs": [],
      "source": [
        "remove_stopwords = lambda x: ' '.join(y for y in x.split() if y not in my_stop_words)"
      ]
    },
    {
      "cell_type": "markdown",
      "metadata": {
        "id": "P0LoDJUG0Cwk"
      },
      "source": [
        "Funktionen ovan tar alltså bort stoppord från ett dokument (alltså en tweet), för att ta bort stoppord från hela vårt corpus kan funktionen `.apply()`användas. \n",
        "\n",
        "**F22.** Skriv den kod som tar bort alla stoppord från `tweets_low_no_small` och skapar en ny variabel `tweets_low_no_small_stopwords` för corpuset utan stoppord."
      ]
    },
    {
      "cell_type": "code",
      "execution_count": null,
      "metadata": {
        "id": "dexm4BnU0Cwm"
      },
      "outputs": [],
      "source": [
        "# F22\n",
        "tweets_low_no_small_stopwords = ...#din kod här"
      ]
    },
    {
      "cell_type": "code",
      "execution_count": null,
      "metadata": {
        "id": "eKdGkk6a0Cwo"
      },
      "outputs": [],
      "source": [
        "top_words_low_no_small_stopwords = plot_top_words(tweets_low_no_small_stopwords, 50, 30)\n",
        "top_words_low_no_small_stopwords"
      ]
    },
    {
      "cell_type": "markdown",
      "metadata": {
        "id": "2XBlNZ1v0Cws"
      },
      "source": [
        "**F23.** Efter att stopporden tagits bort, hur många gånger måste ett ord förekomma i vårt corpus för att hamna i den nya listan enligt ovan? "
      ]
    },
    {
      "cell_type": "markdown",
      "source": [
        "F23"
      ],
      "metadata": {
        "id": "IrPiBun2ASfc"
      }
    },
    {
      "cell_type": "markdown",
      "metadata": {
        "lang": "en",
        "id": "5p3g80nd0Cwt"
      },
      "source": [
        "**F24.** Vad är skillnaderna mellan de frekvent förekommande orden i jämförelse med våra tidigare listor? Skriv den kod som jämför dessa tre listor `top_words_lowered`, `top_words_low_no_small` and `top_words_low_no_small_stopwords`, titta på de första 20 orden i listorna.\n"
      ]
    },
    {
      "cell_type": "code",
      "source": [
        "# F24"
      ],
      "metadata": {
        "id": "oiDvS60gAWxe"
      },
      "execution_count": null,
      "outputs": []
    },
    {
      "cell_type": "markdown",
      "metadata": {
        "lang": "en",
        "id": "Zz6IsvSK0Cwu"
      },
      "source": [
        "### Visualisering och rekommendation\n",
        "\n",
        "Dags att visualisera vårt resultat och övertyga vår klient om att vi hittat de bästa debattämnena för dem! Här gör vi det genom att skapa ett word cloud där de mest frekventa orden syns bäst. \n",
        "\n",
        "Nedanstående kod skapar ett ordmoln för `top_words_low_no_small_stopwords`"
      ]
    },
    {
      "cell_type": "code",
      "execution_count": null,
      "metadata": {
        "id": "icwNfKNu0Cww"
      },
      "outputs": [],
      "source": [
        "from wordcloud import WordCloud\n",
        "import matplotlib.pyplot as plt\n",
        "wordcloud = WordCloud(max_font_size=40)\n",
        "wordcloud.fit_words(top_words_no_small_stopwords.to_dict())\n",
        "plt.figure()\n",
        "plt.imshow(wordcloud, interpolation=\"bilinear\")\n",
        "plt.axis(\"off\")\n",
        "plt.show()"
      ]
    },
    {
      "cell_type": "markdown",
      "metadata": {
        "id": "TqnnzVy80Cwz"
      },
      "source": [
        "**F25** Ändra i tidigare kod hur många gånger ett ord minst måste finnas för att det ska inkluderas i ordmolnet. Vad förändras?"
      ]
    },
    {
      "cell_type": "markdown",
      "source": [
        "F25"
      ],
      "metadata": {
        "id": "V8PTdPa3Aen3"
      }
    },
    {
      "cell_type": "markdown",
      "metadata": {
        "lang": "en",
        "id": "as_m2zI_0Cwz"
      },
      "source": [
        "**F26** När du tittar på ordmolnet, är det fler ord som borde vara stoppord? Ange några stycken och förklara varför de bör tas bort."
      ]
    },
    {
      "cell_type": "markdown",
      "source": [
        "F26"
      ],
      "metadata": {
        "id": "V7sCyXv9Aktv"
      }
    },
    {
      "cell_type": "markdown",
      "metadata": {
        "lang": "en",
        "id": "6fmJLdCm0Cw0"
      },
      "source": [
        "**F27.** Vilket tema rekommenderar ni att publicisten ska ha som debattämne? Förklara svaret. "
      ]
    },
    {
      "cell_type": "markdown",
      "source": [
        "F27"
      ],
      "metadata": {
        "id": "8E1xA15PAmro"
      }
    },
    {
      "cell_type": "markdown",
      "metadata": {
        "lang": "en",
        "id": "Sx-il91H0Cw1"
      },
      "source": [
        "**F28.** Ni har nu arbetat med textdata, hur är det annorlunda när det gäller pre-processing jämfört med annan typ av data som är av mer numerisk eller kategorisk karaktär?"
      ]
    },
    {
      "cell_type": "markdown",
      "source": [
        "F28"
      ],
      "metadata": {
        "id": "OhzJlIw2ApX4"
      }
    },
    {
      "cell_type": "markdown",
      "metadata": {
        "id": "yojZrtnt0Cw3"
      },
      "source": [
        "---\n",
        "*När ni besvarat samtliga frågor och all er kod fungerar i enlighet med instruktioner, glöm då inte att lämna in en länk till ert repositorie med den färdiga lösningen körd i era notebooks, senast det datum som är angivet. Infoga också en knapp till Colaboratory om ni använt er av denna miljö*. \n",
        "\n",
        "**Glöm inte heller att versionshantera i GitHub så att jag kan följa ert arbete!** \n",
        "\n",
        "Lycka till!"
      ]
    },
    {
      "cell_type": "code",
      "execution_count": null,
      "metadata": {
        "id": "9R_wCUvw0Cw4"
      },
      "outputs": [],
      "source": [
        ""
      ]
    }
  ],
  "metadata": {
    "kernelspec": {
      "display_name": "Python 3",
      "language": "python",
      "name": "python3"
    },
    "language_info": {
      "codemirror_mode": {
        "name": "ipython",
        "version": 3
      },
      "file_extension": ".py",
      "mimetype": "text/x-python",
      "name": "python",
      "nbconvert_exporter": "python",
      "pygments_lexer": "ipython3",
      "version": "3.7.4"
    },
    "latex_envs": {
      "LaTeX_envs_menu_present": true,
      "autoclose": false,
      "autocomplete": true,
      "bibliofile": "biblio.bib",
      "cite_by": "apalike",
      "current_citInitial": 1,
      "eqLabelWithNumbers": true,
      "eqNumInitial": 1,
      "hotkeys": {
        "equation": "Ctrl-E",
        "itemize": "Ctrl-I"
      },
      "labels_anchors": false,
      "latex_user_defs": false,
      "report_style_numbering": false,
      "user_envs_cfg": false
    },
    "nbTranslate": {
      "displayLangs": [],
      "hotkey": "alt-t",
      "langInMainMenu": true,
      "sourceLang": "sv",
      "targetLang": "en",
      "useGoogleTranslate": true
    },
    "colab": {
      "name": "inlämning_1_ del 2.ipynb",
      "provenance": [],
      "include_colab_link": true
    }
  },
  "nbformat": 4,
  "nbformat_minor": 0
}